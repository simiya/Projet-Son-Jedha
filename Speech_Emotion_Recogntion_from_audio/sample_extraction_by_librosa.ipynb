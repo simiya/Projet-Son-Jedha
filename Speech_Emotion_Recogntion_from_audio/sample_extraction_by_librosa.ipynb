{
 "cells": [
  {
   "cell_type": "code",
   "execution_count": 2,
   "metadata": {},
   "outputs": [],
   "source": [
    "import pandas as pd\n",
    "import librosa\n",
    "import numpy as np"
   ]
  },
  {
   "cell_type": "code",
   "execution_count": 3,
   "metadata": {},
   "outputs": [
    {
     "data": {
      "text/html": [
       "<div>\n",
       "<style scoped>\n",
       "    .dataframe tbody tr th:only-of-type {\n",
       "        vertical-align: middle;\n",
       "    }\n",
       "\n",
       "    .dataframe tbody tr th {\n",
       "        vertical-align: top;\n",
       "    }\n",
       "\n",
       "    .dataframe thead th {\n",
       "        text-align: right;\n",
       "    }\n",
       "</style>\n",
       "<table border=\"1\" class=\"dataframe\">\n",
       "  <thead>\n",
       "    <tr style=\"text-align: right;\">\n",
       "      <th></th>\n",
       "      <th>filePath</th>\n",
       "      <th>emotion</th>\n",
       "      <th>isFemale</th>\n",
       "      <th>actorId</th>\n",
       "    </tr>\n",
       "  </thead>\n",
       "  <tbody>\n",
       "    <tr>\n",
       "      <th>0</th>\n",
       "      <td>data/RAVDESS/Audio_Speech_Actors_01-24/Actor_1...</td>\n",
       "      <td>5</td>\n",
       "      <td>True</td>\n",
       "      <td>16</td>\n",
       "    </tr>\n",
       "    <tr>\n",
       "      <th>1</th>\n",
       "      <td>data/RAVDESS/Audio_Speech_Actors_01-24/Actor_1...</td>\n",
       "      <td>6</td>\n",
       "      <td>True</td>\n",
       "      <td>16</td>\n",
       "    </tr>\n",
       "    <tr>\n",
       "      <th>2</th>\n",
       "      <td>data/RAVDESS/Audio_Speech_Actors_01-24/Actor_1...</td>\n",
       "      <td>6</td>\n",
       "      <td>True</td>\n",
       "      <td>16</td>\n",
       "    </tr>\n",
       "    <tr>\n",
       "      <th>3</th>\n",
       "      <td>data/RAVDESS/Audio_Speech_Actors_01-24/Actor_1...</td>\n",
       "      <td>5</td>\n",
       "      <td>True</td>\n",
       "      <td>16</td>\n",
       "    </tr>\n",
       "    <tr>\n",
       "      <th>4</th>\n",
       "      <td>data/RAVDESS/Audio_Speech_Actors_01-24/Actor_1...</td>\n",
       "      <td>7</td>\n",
       "      <td>True</td>\n",
       "      <td>16</td>\n",
       "    </tr>\n",
       "  </tbody>\n",
       "</table>\n",
       "</div>"
      ],
      "text/plain": [
       "                                            filePath  emotion  isFemale  \\\n",
       "0  data/RAVDESS/Audio_Speech_Actors_01-24/Actor_1...        5      True   \n",
       "1  data/RAVDESS/Audio_Speech_Actors_01-24/Actor_1...        6      True   \n",
       "2  data/RAVDESS/Audio_Speech_Actors_01-24/Actor_1...        6      True   \n",
       "3  data/RAVDESS/Audio_Speech_Actors_01-24/Actor_1...        5      True   \n",
       "4  data/RAVDESS/Audio_Speech_Actors_01-24/Actor_1...        7      True   \n",
       "\n",
       "   actorId  \n",
       "0       16  \n",
       "1       16  \n",
       "2       16  \n",
       "3       16  \n",
       "4       16  "
      ]
     },
     "execution_count": 3,
     "metadata": {},
     "output_type": "execute_result"
    }
   ],
   "source": [
    "df = pd.read_csv('RAVDESS_speech.csv', index_col=False)\n",
    "df.head()"
   ]
  },
  {
   "cell_type": "code",
   "execution_count": 4,
   "metadata": {},
   "outputs": [],
   "source": [
    "df['isCalmOrNeutral'] = [1 if x < 3 else 0 for x in df['emotion']]\n",
    "df['isCalmOrNeutralOrHappy'] = [1 if x < 4 else 0 for x in df['emotion']]"
   ]
  },
  {
   "cell_type": "code",
   "execution_count": 5,
   "metadata": {},
   "outputs": [
    {
     "data": {
      "text/html": [
       "<div>\n",
       "<style scoped>\n",
       "    .dataframe tbody tr th:only-of-type {\n",
       "        vertical-align: middle;\n",
       "    }\n",
       "\n",
       "    .dataframe tbody tr th {\n",
       "        vertical-align: top;\n",
       "    }\n",
       "\n",
       "    .dataframe thead th {\n",
       "        text-align: right;\n",
       "    }\n",
       "</style>\n",
       "<table border=\"1\" class=\"dataframe\">\n",
       "  <thead>\n",
       "    <tr style=\"text-align: right;\">\n",
       "      <th></th>\n",
       "      <th>filePath</th>\n",
       "      <th>emotion</th>\n",
       "      <th>isFemale</th>\n",
       "      <th>actorId</th>\n",
       "      <th>isCalmOrNeutral</th>\n",
       "      <th>isCalmOrNeutralOrHappy</th>\n",
       "    </tr>\n",
       "  </thead>\n",
       "  <tbody>\n",
       "    <tr>\n",
       "      <th>0</th>\n",
       "      <td>data/RAVDESS/Audio_Speech_Actors_01-24/Actor_1...</td>\n",
       "      <td>5</td>\n",
       "      <td>True</td>\n",
       "      <td>16</td>\n",
       "      <td>0</td>\n",
       "      <td>0</td>\n",
       "    </tr>\n",
       "    <tr>\n",
       "      <th>1</th>\n",
       "      <td>data/RAVDESS/Audio_Speech_Actors_01-24/Actor_1...</td>\n",
       "      <td>6</td>\n",
       "      <td>True</td>\n",
       "      <td>16</td>\n",
       "      <td>0</td>\n",
       "      <td>0</td>\n",
       "    </tr>\n",
       "    <tr>\n",
       "      <th>2</th>\n",
       "      <td>data/RAVDESS/Audio_Speech_Actors_01-24/Actor_1...</td>\n",
       "      <td>6</td>\n",
       "      <td>True</td>\n",
       "      <td>16</td>\n",
       "      <td>0</td>\n",
       "      <td>0</td>\n",
       "    </tr>\n",
       "    <tr>\n",
       "      <th>3</th>\n",
       "      <td>data/RAVDESS/Audio_Speech_Actors_01-24/Actor_1...</td>\n",
       "      <td>5</td>\n",
       "      <td>True</td>\n",
       "      <td>16</td>\n",
       "      <td>0</td>\n",
       "      <td>0</td>\n",
       "    </tr>\n",
       "    <tr>\n",
       "      <th>4</th>\n",
       "      <td>data/RAVDESS/Audio_Speech_Actors_01-24/Actor_1...</td>\n",
       "      <td>7</td>\n",
       "      <td>True</td>\n",
       "      <td>16</td>\n",
       "      <td>0</td>\n",
       "      <td>0</td>\n",
       "    </tr>\n",
       "  </tbody>\n",
       "</table>\n",
       "</div>"
      ],
      "text/plain": [
       "                                            filePath  emotion  isFemale  \\\n",
       "0  data/RAVDESS/Audio_Speech_Actors_01-24/Actor_1...        5      True   \n",
       "1  data/RAVDESS/Audio_Speech_Actors_01-24/Actor_1...        6      True   \n",
       "2  data/RAVDESS/Audio_Speech_Actors_01-24/Actor_1...        6      True   \n",
       "3  data/RAVDESS/Audio_Speech_Actors_01-24/Actor_1...        5      True   \n",
       "4  data/RAVDESS/Audio_Speech_Actors_01-24/Actor_1...        7      True   \n",
       "\n",
       "   actorId  isCalmOrNeutral  isCalmOrNeutralOrHappy  \n",
       "0       16                0                       0  \n",
       "1       16                0                       0  \n",
       "2       16                0                       0  \n",
       "3       16                0                       0  \n",
       "4       16                0                       0  "
      ]
     },
     "execution_count": 5,
     "metadata": {},
     "output_type": "execute_result"
    }
   ],
   "source": [
    "df.head()"
   ]
  },
  {
   "cell_type": "code",
   "execution_count": 6,
   "metadata": {},
   "outputs": [
    {
     "data": {
      "text/plain": [
       "0    1152\n",
       "1     288\n",
       "Name: isCalmOrNeutral, dtype: int64"
      ]
     },
     "execution_count": 6,
     "metadata": {},
     "output_type": "execute_result"
    }
   ],
   "source": [
    "df.isCalmOrNeutral.value_counts()"
   ]
  },
  {
   "cell_type": "code",
   "execution_count": 21,
   "metadata": {},
   "outputs": [
    {
     "data": {
      "text/plain": [
       "0    960\n",
       "1    480\n",
       "Name: isCalmOrNeutralOrHappy, dtype: int64"
      ]
     },
     "execution_count": 21,
     "metadata": {},
     "output_type": "execute_result"
    }
   ],
   "source": [
    "df.isCalmOrNeutralOrHappy.value_counts()"
   ]
  },
  {
   "cell_type": "code",
   "execution_count": null,
   "metadata": {},
   "outputs": [],
   "source": []
  },
  {
   "cell_type": "code",
   "execution_count": 30,
   "metadata": {},
   "outputs": [],
   "source": [
    "def mel_spectogram_db(file_name, mels=3, sr=8000):\n",
    "    \"\"\"Returns the mel spectrogram for a given audio file and mel count\n",
    "        Args:\n",
    "            file_name (str): File name of the WAV file\n",
    "            mels (int): Target length in seconds\n",
    "            sr: sampling rate\n",
    "        Returns:\n",
    "            numpy.ndarray: Numpy array of mel spectrogram values\n",
    "    \"\"\"\n",
    "    data, sample_rate = librosa.load(file_name, res_type=\"kaiser_fast\", sr=sr)\n",
    "    mel_spectogram = librosa.feature.melspectrogram(y=data, sr=sample_rate, n_mels=mels)\n",
    "    mel_db = librosa.power_to_db(mel_spectogram, ref=np.max)\n",
    "    return mel_db.T"
   ]
  },
  {
   "cell_type": "code",
   "execution_count": 31,
   "metadata": {},
   "outputs": [],
   "source": [
    "mel = []\n",
    "df['mel'] = [mel_spectogram_db(x) for x in df.filePath]"
   ]
  },
  {
   "cell_type": "code",
   "execution_count": 7,
   "metadata": {},
   "outputs": [],
   "source": [
    "def getSamples(file_name):\n",
    "    samples, sr = librosa.load(file_name)\n",
    "    return samples\n",
    "    \n",
    "df['samples'] = [getSamples(x) for x in df.filePath]"
   ]
  },
  {
   "cell_type": "code",
   "execution_count": 16,
   "metadata": {},
   "outputs": [],
   "source": [
    "df.to_csv('RAVDESS_speech_withMel_withSamples.csv', index=False)"
   ]
  },
  {
   "cell_type": "code",
   "execution_count": 33,
   "metadata": {},
   "outputs": [],
   "source": [
    "#df.to_csv('RAVDESS_speech_withMel.csv', index=False)"
   ]
  },
  {
   "cell_type": "code",
   "execution_count": 41,
   "metadata": {},
   "outputs": [
    {
     "data": {
      "text/plain": [
       "(62, 3)"
      ]
     },
     "execution_count": 41,
     "metadata": {},
     "output_type": "execute_result"
    }
   ],
   "source": [
    "np.shape(df.iloc[0].mel)"
   ]
  },
  {
   "cell_type": "code",
   "execution_count": null,
   "metadata": {},
   "outputs": [],
   "source": []
  }
 ],
 "metadata": {
  "interpreter": {
   "hash": "aee8b7b246df8f9039afb4144a1f6fd8d2ca17a180786b69acc140d282b71a49"
  },
  "kernelspec": {
   "display_name": "Python 3.10.0 64-bit",
   "language": "python",
   "name": "python3"
  },
  "language_info": {
   "codemirror_mode": {
    "name": "ipython",
    "version": 3
   },
   "file_extension": ".py",
   "mimetype": "text/x-python",
   "name": "python",
   "nbconvert_exporter": "python",
   "pygments_lexer": "ipython3",
   "version": "3.8.8"
  },
  "orig_nbformat": 4
 },
 "nbformat": 4,
 "nbformat_minor": 2
}
