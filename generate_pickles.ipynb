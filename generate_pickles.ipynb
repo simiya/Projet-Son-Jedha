{
 "cells": [
  {
   "cell_type": "code",
   "execution_count": 1,
   "metadata": {},
   "outputs": [],
   "source": [
    "import pandas as pd\n",
    "import feature_extraction as fe\n",
    "import numpy as np\n"
   ]
  },
  {
   "cell_type": "code",
   "execution_count": 2,
   "metadata": {},
   "outputs": [
    {
     "data": {
      "text/html": [
       "<div>\n",
       "<style scoped>\n",
       "    .dataframe tbody tr th:only-of-type {\n",
       "        vertical-align: middle;\n",
       "    }\n",
       "\n",
       "    .dataframe tbody tr th {\n",
       "        vertical-align: top;\n",
       "    }\n",
       "\n",
       "    .dataframe thead th {\n",
       "        text-align: right;\n",
       "    }\n",
       "</style>\n",
       "<table border=\"1\" class=\"dataframe\">\n",
       "  <thead>\n",
       "    <tr style=\"text-align: right;\">\n",
       "      <th></th>\n",
       "      <th>filePath</th>\n",
       "      <th>emotion</th>\n",
       "      <th>isFemale</th>\n",
       "      <th>actorId</th>\n",
       "    </tr>\n",
       "  </thead>\n",
       "  <tbody>\n",
       "    <tr>\n",
       "      <th>0</th>\n",
       "      <td>data/RAVDESS/Audio_Speech_Actors_01-24/Actor_1...</td>\n",
       "      <td>5</td>\n",
       "      <td>True</td>\n",
       "      <td>16</td>\n",
       "    </tr>\n",
       "    <tr>\n",
       "      <th>1</th>\n",
       "      <td>data/RAVDESS/Audio_Speech_Actors_01-24/Actor_1...</td>\n",
       "      <td>6</td>\n",
       "      <td>True</td>\n",
       "      <td>16</td>\n",
       "    </tr>\n",
       "    <tr>\n",
       "      <th>2</th>\n",
       "      <td>data/RAVDESS/Audio_Speech_Actors_01-24/Actor_1...</td>\n",
       "      <td>6</td>\n",
       "      <td>True</td>\n",
       "      <td>16</td>\n",
       "    </tr>\n",
       "    <tr>\n",
       "      <th>3</th>\n",
       "      <td>data/RAVDESS/Audio_Speech_Actors_01-24/Actor_1...</td>\n",
       "      <td>5</td>\n",
       "      <td>True</td>\n",
       "      <td>16</td>\n",
       "    </tr>\n",
       "    <tr>\n",
       "      <th>4</th>\n",
       "      <td>data/RAVDESS/Audio_Speech_Actors_01-24/Actor_1...</td>\n",
       "      <td>7</td>\n",
       "      <td>True</td>\n",
       "      <td>16</td>\n",
       "    </tr>\n",
       "  </tbody>\n",
       "</table>\n",
       "</div>"
      ],
      "text/plain": [
       "                                            filePath  emotion  isFemale  \\\n",
       "0  data/RAVDESS/Audio_Speech_Actors_01-24/Actor_1...        5      True   \n",
       "1  data/RAVDESS/Audio_Speech_Actors_01-24/Actor_1...        6      True   \n",
       "2  data/RAVDESS/Audio_Speech_Actors_01-24/Actor_1...        6      True   \n",
       "3  data/RAVDESS/Audio_Speech_Actors_01-24/Actor_1...        5      True   \n",
       "4  data/RAVDESS/Audio_Speech_Actors_01-24/Actor_1...        7      True   \n",
       "\n",
       "   actorId  \n",
       "0       16  \n",
       "1       16  \n",
       "2       16  \n",
       "3       16  \n",
       "4       16  "
      ]
     },
     "execution_count": 2,
     "metadata": {},
     "output_type": "execute_result"
    }
   ],
   "source": [
    "df_raw = pd.read_csv('RAVDESS_speech.csv')\n",
    "df_raw.head()"
   ]
  },
  {
   "cell_type": "code",
   "execution_count": 4,
   "metadata": {},
   "outputs": [],
   "source": [
    "df = df_raw"
   ]
  },
  {
   "cell_type": "code",
   "execution_count": 5,
   "metadata": {},
   "outputs": [
    {
     "data": {
      "text/plain": [
       "'data/RAVDESS/Audio_Speech_Actors_01-24/Actor_16/03-01-05-01-02-01-16.wav'"
      ]
     },
     "execution_count": 5,
     "metadata": {},
     "output_type": "execute_result"
    }
   ],
   "source": [
    "df['filePath'][0]"
   ]
  },
  {
   "cell_type": "code",
   "execution_count": 11,
   "metadata": {},
   "outputs": [],
   "source": [
    "# here we generate the MFCC paramaters from audio files\n",
    "#df['mfcc'] = [ feature_extraction.getMfcc(feature_extraction.getSamples(x),8000) for x in df['filePath']]"
   ]
  },
  {
   "cell_type": "code",
   "execution_count": 6,
   "metadata": {},
   "outputs": [],
   "source": [
    "df['mfcc_trimmed'] = [ fe.getMfcc( \\\n",
    "               fe.getTrimmed( \\\n",
    "               fe.getSamples(x,8000)), 8000) for x in df['filePath']]"
   ]
  },
  {
   "cell_type": "code",
   "execution_count": 9,
   "metadata": {},
   "outputs": [
    {
     "data": {
      "text/plain": [
       "pandas.core.series.Series"
      ]
     },
     "execution_count": 9,
     "metadata": {},
     "output_type": "execute_result"
    }
   ],
   "source": [
    "type(df.mfcc_trimmed)"
   ]
  },
  {
   "cell_type": "code",
   "execution_count": 10,
   "metadata": {},
   "outputs": [],
   "source": [
    "with open('mfcc_trimmed_8000.npy', 'wb') as f:\n",
    "    np.save(f, df.mfcc_trimmed)"
   ]
  },
  {
   "cell_type": "code",
   "execution_count": 16,
   "metadata": {},
   "outputs": [
    {
     "name": "stdout",
     "output_type": "stream",
     "text": [
      "(1440,)\n",
      "(169, 13)\n"
     ]
    }
   ],
   "source": [
    "print(np.shape(df['mfcc']))\n",
    "print(np.shape(df['mfcc'][0]))"
   ]
  },
  {
   "cell_type": "code",
   "execution_count": 12,
   "metadata": {},
   "outputs": [
    {
     "data": {
      "text/html": [
       "<div>\n",
       "<style scoped>\n",
       "    .dataframe tbody tr th:only-of-type {\n",
       "        vertical-align: middle;\n",
       "    }\n",
       "\n",
       "    .dataframe tbody tr th {\n",
       "        vertical-align: top;\n",
       "    }\n",
       "\n",
       "    .dataframe thead th {\n",
       "        text-align: right;\n",
       "    }\n",
       "</style>\n",
       "<table border=\"1\" class=\"dataframe\">\n",
       "  <thead>\n",
       "    <tr style=\"text-align: right;\">\n",
       "      <th></th>\n",
       "      <th>filePath</th>\n",
       "      <th>emotion</th>\n",
       "      <th>isFemale</th>\n",
       "      <th>actorId</th>\n",
       "      <th>mfcc</th>\n",
       "    </tr>\n",
       "  </thead>\n",
       "  <tbody>\n",
       "    <tr>\n",
       "      <th>0</th>\n",
       "      <td>data/RAVDESS/Audio_Speech_Actors_01-24/Actor_1...</td>\n",
       "      <td>5</td>\n",
       "      <td>True</td>\n",
       "      <td>16</td>\n",
       "      <td>[[-685.95807, 0.0, 0.0, 0.0, 0.0, 0.0, 0.0, 0....</td>\n",
       "    </tr>\n",
       "    <tr>\n",
       "      <th>1</th>\n",
       "      <td>data/RAVDESS/Audio_Speech_Actors_01-24/Actor_1...</td>\n",
       "      <td>6</td>\n",
       "      <td>True</td>\n",
       "      <td>16</td>\n",
       "      <td>[[-671.2172, 0.0, 0.0, 0.0, 0.0, 0.0, 0.0, 0.0...</td>\n",
       "    </tr>\n",
       "    <tr>\n",
       "      <th>2</th>\n",
       "      <td>data/RAVDESS/Audio_Speech_Actors_01-24/Actor_1...</td>\n",
       "      <td>6</td>\n",
       "      <td>True</td>\n",
       "      <td>16</td>\n",
       "      <td>[[-527.4061, 0.0, 0.0, 0.0, 0.0, 0.0, 0.0, 0.0...</td>\n",
       "    </tr>\n",
       "    <tr>\n",
       "      <th>3</th>\n",
       "      <td>data/RAVDESS/Audio_Speech_Actors_01-24/Actor_1...</td>\n",
       "      <td>5</td>\n",
       "      <td>True</td>\n",
       "      <td>16</td>\n",
       "      <td>[[-574.12976, 0.0, 0.0, 0.0, 0.0, 0.0, 0.0, 0....</td>\n",
       "    </tr>\n",
       "    <tr>\n",
       "      <th>4</th>\n",
       "      <td>data/RAVDESS/Audio_Speech_Actors_01-24/Actor_1...</td>\n",
       "      <td>7</td>\n",
       "      <td>True</td>\n",
       "      <td>16</td>\n",
       "      <td>[[-790.7973, 0.0, 0.0, 0.0, 0.0, 0.0, 0.0, 0.0...</td>\n",
       "    </tr>\n",
       "    <tr>\n",
       "      <th>...</th>\n",
       "      <td>...</td>\n",
       "      <td>...</td>\n",
       "      <td>...</td>\n",
       "      <td>...</td>\n",
       "      <td>...</td>\n",
       "    </tr>\n",
       "    <tr>\n",
       "      <th>1435</th>\n",
       "      <td>data/RAVDESS/Audio_Speech_Actors_01-24/Actor_0...</td>\n",
       "      <td>3</td>\n",
       "      <td>True</td>\n",
       "      <td>8</td>\n",
       "      <td>[[-709.6082, 6.139104, 6.125681, 6.1033754, 6....</td>\n",
       "    </tr>\n",
       "    <tr>\n",
       "      <th>1436</th>\n",
       "      <td>data/RAVDESS/Audio_Speech_Actors_01-24/Actor_0...</td>\n",
       "      <td>3</td>\n",
       "      <td>True</td>\n",
       "      <td>8</td>\n",
       "      <td>[[-789.213, 13.234871, 11.378355, 11.46046, 12...</td>\n",
       "    </tr>\n",
       "    <tr>\n",
       "      <th>1437</th>\n",
       "      <td>data/RAVDESS/Audio_Speech_Actors_01-24/Actor_0...</td>\n",
       "      <td>2</td>\n",
       "      <td>True</td>\n",
       "      <td>8</td>\n",
       "      <td>[[-862.7954, 28.97565, 24.213745, 19.02436, 12...</td>\n",
       "    </tr>\n",
       "    <tr>\n",
       "      <th>1438</th>\n",
       "      <td>data/RAVDESS/Audio_Speech_Actors_01-24/Actor_0...</td>\n",
       "      <td>2</td>\n",
       "      <td>True</td>\n",
       "      <td>8</td>\n",
       "      <td>[[-856.02234, 20.999788, 17.354954, 16.075838,...</td>\n",
       "    </tr>\n",
       "    <tr>\n",
       "      <th>1439</th>\n",
       "      <td>data/RAVDESS/Audio_Speech_Actors_01-24/Actor_0...</td>\n",
       "      <td>1</td>\n",
       "      <td>True</td>\n",
       "      <td>8</td>\n",
       "      <td>[[-815.3506, 17.536715, 16.921389, 16.089722, ...</td>\n",
       "    </tr>\n",
       "  </tbody>\n",
       "</table>\n",
       "<p>1440 rows × 5 columns</p>\n",
       "</div>"
      ],
      "text/plain": [
       "                                               filePath  emotion  isFemale  \\\n",
       "0     data/RAVDESS/Audio_Speech_Actors_01-24/Actor_1...        5      True   \n",
       "1     data/RAVDESS/Audio_Speech_Actors_01-24/Actor_1...        6      True   \n",
       "2     data/RAVDESS/Audio_Speech_Actors_01-24/Actor_1...        6      True   \n",
       "3     data/RAVDESS/Audio_Speech_Actors_01-24/Actor_1...        5      True   \n",
       "4     data/RAVDESS/Audio_Speech_Actors_01-24/Actor_1...        7      True   \n",
       "...                                                 ...      ...       ...   \n",
       "1435  data/RAVDESS/Audio_Speech_Actors_01-24/Actor_0...        3      True   \n",
       "1436  data/RAVDESS/Audio_Speech_Actors_01-24/Actor_0...        3      True   \n",
       "1437  data/RAVDESS/Audio_Speech_Actors_01-24/Actor_0...        2      True   \n",
       "1438  data/RAVDESS/Audio_Speech_Actors_01-24/Actor_0...        2      True   \n",
       "1439  data/RAVDESS/Audio_Speech_Actors_01-24/Actor_0...        1      True   \n",
       "\n",
       "      actorId                                               mfcc  \n",
       "0          16  [[-685.95807, 0.0, 0.0, 0.0, 0.0, 0.0, 0.0, 0....  \n",
       "1          16  [[-671.2172, 0.0, 0.0, 0.0, 0.0, 0.0, 0.0, 0.0...  \n",
       "2          16  [[-527.4061, 0.0, 0.0, 0.0, 0.0, 0.0, 0.0, 0.0...  \n",
       "3          16  [[-574.12976, 0.0, 0.0, 0.0, 0.0, 0.0, 0.0, 0....  \n",
       "4          16  [[-790.7973, 0.0, 0.0, 0.0, 0.0, 0.0, 0.0, 0.0...  \n",
       "...       ...                                                ...  \n",
       "1435        8  [[-709.6082, 6.139104, 6.125681, 6.1033754, 6....  \n",
       "1436        8  [[-789.213, 13.234871, 11.378355, 11.46046, 12...  \n",
       "1437        8  [[-862.7954, 28.97565, 24.213745, 19.02436, 12...  \n",
       "1438        8  [[-856.02234, 20.999788, 17.354954, 16.075838,...  \n",
       "1439        8  [[-815.3506, 17.536715, 16.921389, 16.089722, ...  \n",
       "\n",
       "[1440 rows x 5 columns]"
      ]
     },
     "execution_count": 12,
     "metadata": {},
     "output_type": "execute_result"
    }
   ],
   "source": []
  },
  {
   "cell_type": "code",
   "execution_count": 19,
   "metadata": {},
   "outputs": [
    {
     "data": {
      "text/plain": [
       "False    720\n",
       "True     720\n",
       "Name: isFemale, dtype: int64"
      ]
     },
     "execution_count": 19,
     "metadata": {},
     "output_type": "execute_result"
    }
   ],
   "source": [
    "df.isFemale.value_counts()"
   ]
  },
  {
   "cell_type": "code",
   "execution_count": 20,
   "metadata": {},
   "outputs": [
    {
     "data": {
      "text/plain": [
       "1     60\n",
       "2     60\n",
       "23    60\n",
       "22    60\n",
       "21    60\n",
       "20    60\n",
       "19    60\n",
       "18    60\n",
       "17    60\n",
       "16    60\n",
       "15    60\n",
       "14    60\n",
       "13    60\n",
       "12    60\n",
       "11    60\n",
       "10    60\n",
       "9     60\n",
       "8     60\n",
       "7     60\n",
       "6     60\n",
       "5     60\n",
       "4     60\n",
       "3     60\n",
       "24    60\n",
       "Name: actorId, dtype: int64"
      ]
     },
     "execution_count": 20,
     "metadata": {},
     "output_type": "execute_result"
    }
   ],
   "source": [
    "df.actorId.value_counts()"
   ]
  },
  {
   "cell_type": "code",
   "execution_count": 21,
   "metadata": {},
   "outputs": [
    {
     "data": {
      "text/plain": [
       "2    192\n",
       "3    192\n",
       "4    192\n",
       "5    192\n",
       "6    192\n",
       "7    192\n",
       "8    192\n",
       "1     96\n",
       "Name: emotion, dtype: int64"
      ]
     },
     "execution_count": 21,
     "metadata": {},
     "output_type": "execute_result"
    }
   ],
   "source": [
    "df.emotion.value_counts()"
   ]
  },
  {
   "cell_type": "code",
   "execution_count": null,
   "metadata": {},
   "outputs": [],
   "source": []
  }
 ],
 "metadata": {
  "interpreter": {
   "hash": "40d3a090f54c6569ab1632332b64b2c03c39dcf918b08424e98f38b5ae0af88f"
  },
  "kernelspec": {
   "display_name": "Python 3.8.8 64-bit ('base': conda)",
   "language": "python",
   "name": "python3"
  },
  "language_info": {
   "codemirror_mode": {
    "name": "ipython",
    "version": 3
   },
   "file_extension": ".py",
   "mimetype": "text/x-python",
   "name": "python",
   "nbconvert_exporter": "python",
   "pygments_lexer": "ipython3",
   "version": "3.9.7"
  },
  "orig_nbformat": 4
 },
 "nbformat": 4,
 "nbformat_minor": 2
}
