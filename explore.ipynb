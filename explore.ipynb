{
 "cells": [
  {
   "cell_type": "code",
   "execution_count": 3,
   "metadata": {},
   "outputs": [],
   "source": [
    "import librosa\n",
    "import numpy as np\n",
    "\n",
    "def mel_spectogram_db(file_name, mels=60):\n",
    "    \"\"\"Returns the mel spectrogram for a given audio file and mel count\n",
    "        Args:\n",
    "            file_name (str): File name of the WAV file\n",
    "            mels (int): Target length in seconds\n",
    "        Returns:\n",
    "            numpy.ndarray: Numpy array of mel spectrogram values\n",
    "    \"\"\"\n",
    "    data, sample_rate = librosa.load(file_name, res_type=\"kaiser_fast\")\n",
    "    mel_spectogram = librosa.feature.melspectrogram(y=data, sr=sample_rate, n_mels=mels)\n",
    "    mel_db = librosa.power_to_db(mel_spectogram, ref=np.max)\n",
    "    return mel_db.T\n",
    "\n",
    "\n"
   ]
  },
  {
   "cell_type": "code",
   "execution_count": null,
   "metadata": {},
   "outputs": [],
   "source": [
    "# DISPLAY WAVEPLOT\n",
    "def display_waveplot(file_name, output_file_name):\n",
    "    plt.figure(figsize=(8, 4))\n",
    "    librosa.display.waveplot(x, sr=sr)\n",
    "    plt.title(file_name)\n",
    "    plt.savefig(output_file_name)"
   ]
  },
  {
   "cell_type": "code",
   "execution_count": 5,
   "metadata": {},
   "outputs": [],
   "source": [
    "mel = mel_spectogram_db('/Users/simiya/自己的学习/jedha/projet_son_jedha/Projet-Son-Jedha/data/RAVDESS/Audio_Speech_Actors_01-24/Actor_01/03-01-01-01-01-01-01.wav')"
   ]
  },
  {
   "cell_type": "code",
   "execution_count": 6,
   "metadata": {},
   "outputs": [
    {
     "data": {
      "text/plain": [
       "array([[-80., -80., -80., ..., -80., -80., -80.],\n",
       "       [-80., -80., -80., ..., -80., -80., -80.],\n",
       "       [-80., -80., -80., ..., -80., -80., -80.],\n",
       "       ...,\n",
       "       [-80., -80., -80., ..., -80., -80., -80.],\n",
       "       [-80., -80., -80., ..., -80., -80., -80.],\n",
       "       [-80., -80., -80., ..., -80., -80., -80.]], dtype=float32)"
      ]
     },
     "execution_count": 6,
     "metadata": {},
     "output_type": "execute_result"
    }
   ],
   "source": [
    "mel"
   ]
  },
  {
   "cell_type": "code",
   "execution_count": 8,
   "metadata": {},
   "outputs": [
    {
     "data": {
      "text/plain": [
       "143"
      ]
     },
     "execution_count": 8,
     "metadata": {},
     "output_type": "execute_result"
    }
   ],
   "source": [
    "len(mel)"
   ]
  },
  {
   "cell_type": "code",
   "execution_count": 9,
   "metadata": {},
   "outputs": [
    {
     "data": {
      "text/plain": [
       "array([[-79.93067, -80.     , -80.     , ..., -80.     , -80.     ,\n",
       "        -80.     ],\n",
       "       [-80.     , -80.     , -80.     , ..., -80.     , -80.     ,\n",
       "        -80.     ],\n",
       "       [-80.     , -80.     , -80.     , ..., -80.     , -80.     ,\n",
       "        -80.     ],\n",
       "       ...,\n",
       "       [-80.     , -80.     , -80.     , ..., -80.     , -80.     ,\n",
       "        -80.     ],\n",
       "       [-80.     , -80.     , -80.     , ..., -80.     , -80.     ,\n",
       "        -80.     ],\n",
       "       [-80.     , -80.     , -80.     , ..., -80.     , -80.     ,\n",
       "        -80.     ]], dtype=float32)"
      ]
     },
     "execution_count": 9,
     "metadata": {},
     "output_type": "execute_result"
    }
   ],
   "source": [
    "mel2 = mel_spectogram_db('/Users/simiya/自己的学习/jedha/projet_son_jedha/Projet-Son-Jedha/data/RAVDESS/Audio_Speech_Actors_01-24/Actor_01/03-01-01-01-01-02-01.wav')\n",
    "mel2"
   ]
  },
  {
   "cell_type": "code",
   "execution_count": 10,
   "metadata": {},
   "outputs": [
    {
     "data": {
      "text/plain": [
       "array([[-57.022152, -68.52432 , -67.02614 , ..., -80.      , -80.      ,\n",
       "        -80.      ],\n",
       "       [-55.4332  , -64.36739 , -66.309364, ..., -80.      , -80.      ,\n",
       "        -80.      ],\n",
       "       [-52.85672 , -60.05863 , -66.24349 , ..., -80.      , -80.      ,\n",
       "        -80.      ],\n",
       "       ...,\n",
       "       [-61.123913, -68.29418 , -68.33813 , ..., -80.      , -80.      ,\n",
       "        -80.      ],\n",
       "       [-61.19768 , -69.4604  , -69.262375, ..., -80.      , -80.      ,\n",
       "        -80.      ],\n",
       "       [-59.24215 , -64.753136, -68.81082 , ..., -80.      , -80.      ,\n",
       "        -80.      ]], dtype=float32)"
      ]
     },
     "execution_count": 10,
     "metadata": {},
     "output_type": "execute_result"
    }
   ],
   "source": [
    "mel3 = mel_spectogram_db('/Users/simiya/自己的学习/jedha/projet_son_jedha/Projet-Son-Jedha/data/RAVDESS/Audio_Speech_Actors_01-24/Actor_01/03-01-01-01-02-01-01.wav')\n",
    "mel3"
   ]
  },
  {
   "cell_type": "code",
   "execution_count": null,
   "metadata": {},
   "outputs": [],
   "source": []
  }
 ],
 "metadata": {
  "interpreter": {
   "hash": "aee8b7b246df8f9039afb4144a1f6fd8d2ca17a180786b69acc140d282b71a49"
  },
  "kernelspec": {
   "display_name": "Python 3.10.0 64-bit",
   "language": "python",
   "name": "python3"
  },
  "language_info": {
   "codemirror_mode": {
    "name": "ipython",
    "version": 3
   },
   "file_extension": ".py",
   "mimetype": "text/x-python",
   "name": "python",
   "nbconvert_exporter": "python",
   "pygments_lexer": "ipython3",
   "version": "3.8.8"
  },
  "orig_nbformat": 4
 },
 "nbformat": 4,
 "nbformat_minor": 2
}
