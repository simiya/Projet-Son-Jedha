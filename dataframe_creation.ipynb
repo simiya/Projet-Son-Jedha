{
 "cells": [
  {
   "cell_type": "code",
   "execution_count": 2,
   "metadata": {},
   "outputs": [],
   "source": [
    "import pandas as pd"
   ]
  },
  {
   "cell_type": "code",
   "execution_count": 3,
   "metadata": {},
   "outputs": [],
   "source": [
    "# create dataframe from RAVDESS audio files\n",
    "rootdir = 'data/RAVDESS/Audio_Speech_Actors_01-24/'\n",
    "wavefile_list = []\n",
    "for root, dirs, files in os.walk(rootdir):\n",
    "    for name in files:\n",
    "        if name[-4:] == '.wav':\n",
    "            wavefile_list.append(os.path.join(root, name))\n",
    "\n",
    "#print(wavefile_list)"
   ]
  },
  {
   "cell_type": "code",
   "execution_count": 18,
   "metadata": {},
   "outputs": [],
   "source": []
  },
  {
   "cell_type": "code",
   "execution_count": 4,
   "metadata": {},
   "outputs": [],
   "source": [
    "emotion = []\n",
    "isfemale = []\n",
    "actor_id_list = []\n",
    "\n",
    "for f in wavefile_list:\n",
    "    part = f.split('.')[0].split('-')\n",
    "    emotion.append(int(part[3]))\n",
    "    actor_id = int(part[7])\n",
    "    actor_id_list.append(actor_id)\n",
    "    if actor_id%2 == 0:\n",
    "        isfemale.append(True)    \n",
    "    else:\n",
    "        isfemale.append(False)\n",
    "\n",
    "\n",
    "data_dict = {'filePath': wavefile_list, \\\n",
    "    'emotion': emotion, \\\n",
    "    'isFemale': isfemale, \\\n",
    "    'actorId': actor_id_list}\n",
    "df = pd.DataFrame(data_dict)"
   ]
  },
  {
   "cell_type": "code",
   "execution_count": 5,
   "metadata": {},
   "outputs": [
    {
     "data": {
      "text/html": [
       "<div>\n",
       "<style scoped>\n",
       "    .dataframe tbody tr th:only-of-type {\n",
       "        vertical-align: middle;\n",
       "    }\n",
       "\n",
       "    .dataframe tbody tr th {\n",
       "        vertical-align: top;\n",
       "    }\n",
       "\n",
       "    .dataframe thead th {\n",
       "        text-align: right;\n",
       "    }\n",
       "</style>\n",
       "<table border=\"1\" class=\"dataframe\">\n",
       "  <thead>\n",
       "    <tr style=\"text-align: right;\">\n",
       "      <th></th>\n",
       "      <th>filePath</th>\n",
       "      <th>emotion</th>\n",
       "      <th>isFemale</th>\n",
       "      <th>actorId</th>\n",
       "    </tr>\n",
       "  </thead>\n",
       "  <tbody>\n",
       "    <tr>\n",
       "      <th>0</th>\n",
       "      <td>data/RAVDESS/Audio_Speech_Actors_01-24/Actor_1...</td>\n",
       "      <td>5</td>\n",
       "      <td>True</td>\n",
       "      <td>16</td>\n",
       "    </tr>\n",
       "    <tr>\n",
       "      <th>1</th>\n",
       "      <td>data/RAVDESS/Audio_Speech_Actors_01-24/Actor_1...</td>\n",
       "      <td>6</td>\n",
       "      <td>True</td>\n",
       "      <td>16</td>\n",
       "    </tr>\n",
       "    <tr>\n",
       "      <th>2</th>\n",
       "      <td>data/RAVDESS/Audio_Speech_Actors_01-24/Actor_1...</td>\n",
       "      <td>6</td>\n",
       "      <td>True</td>\n",
       "      <td>16</td>\n",
       "    </tr>\n",
       "    <tr>\n",
       "      <th>3</th>\n",
       "      <td>data/RAVDESS/Audio_Speech_Actors_01-24/Actor_1...</td>\n",
       "      <td>5</td>\n",
       "      <td>True</td>\n",
       "      <td>16</td>\n",
       "    </tr>\n",
       "    <tr>\n",
       "      <th>4</th>\n",
       "      <td>data/RAVDESS/Audio_Speech_Actors_01-24/Actor_1...</td>\n",
       "      <td>7</td>\n",
       "      <td>True</td>\n",
       "      <td>16</td>\n",
       "    </tr>\n",
       "    <tr>\n",
       "      <th>...</th>\n",
       "      <td>...</td>\n",
       "      <td>...</td>\n",
       "      <td>...</td>\n",
       "      <td>...</td>\n",
       "    </tr>\n",
       "    <tr>\n",
       "      <th>1435</th>\n",
       "      <td>data/RAVDESS/Audio_Speech_Actors_01-24/Actor_0...</td>\n",
       "      <td>3</td>\n",
       "      <td>True</td>\n",
       "      <td>8</td>\n",
       "    </tr>\n",
       "    <tr>\n",
       "      <th>1436</th>\n",
       "      <td>data/RAVDESS/Audio_Speech_Actors_01-24/Actor_0...</td>\n",
       "      <td>3</td>\n",
       "      <td>True</td>\n",
       "      <td>8</td>\n",
       "    </tr>\n",
       "    <tr>\n",
       "      <th>1437</th>\n",
       "      <td>data/RAVDESS/Audio_Speech_Actors_01-24/Actor_0...</td>\n",
       "      <td>2</td>\n",
       "      <td>True</td>\n",
       "      <td>8</td>\n",
       "    </tr>\n",
       "    <tr>\n",
       "      <th>1438</th>\n",
       "      <td>data/RAVDESS/Audio_Speech_Actors_01-24/Actor_0...</td>\n",
       "      <td>2</td>\n",
       "      <td>True</td>\n",
       "      <td>8</td>\n",
       "    </tr>\n",
       "    <tr>\n",
       "      <th>1439</th>\n",
       "      <td>data/RAVDESS/Audio_Speech_Actors_01-24/Actor_0...</td>\n",
       "      <td>1</td>\n",
       "      <td>True</td>\n",
       "      <td>8</td>\n",
       "    </tr>\n",
       "  </tbody>\n",
       "</table>\n",
       "<p>1440 rows × 4 columns</p>\n",
       "</div>"
      ],
      "text/plain": [
       "                                               filePath  emotion  isFemale  \\\n",
       "0     data/RAVDESS/Audio_Speech_Actors_01-24/Actor_1...        5      True   \n",
       "1     data/RAVDESS/Audio_Speech_Actors_01-24/Actor_1...        6      True   \n",
       "2     data/RAVDESS/Audio_Speech_Actors_01-24/Actor_1...        6      True   \n",
       "3     data/RAVDESS/Audio_Speech_Actors_01-24/Actor_1...        5      True   \n",
       "4     data/RAVDESS/Audio_Speech_Actors_01-24/Actor_1...        7      True   \n",
       "...                                                 ...      ...       ...   \n",
       "1435  data/RAVDESS/Audio_Speech_Actors_01-24/Actor_0...        3      True   \n",
       "1436  data/RAVDESS/Audio_Speech_Actors_01-24/Actor_0...        3      True   \n",
       "1437  data/RAVDESS/Audio_Speech_Actors_01-24/Actor_0...        2      True   \n",
       "1438  data/RAVDESS/Audio_Speech_Actors_01-24/Actor_0...        2      True   \n",
       "1439  data/RAVDESS/Audio_Speech_Actors_01-24/Actor_0...        1      True   \n",
       "\n",
       "      actorId  \n",
       "0          16  \n",
       "1          16  \n",
       "2          16  \n",
       "3          16  \n",
       "4          16  \n",
       "...       ...  \n",
       "1435        8  \n",
       "1436        8  \n",
       "1437        8  \n",
       "1438        8  \n",
       "1439        8  \n",
       "\n",
       "[1440 rows x 4 columns]"
      ]
     },
     "execution_count": 5,
     "metadata": {},
     "output_type": "execute_result"
    }
   ],
   "source": [
    "df"
   ]
  },
  {
   "cell_type": "code",
   "execution_count": 14,
   "metadata": {},
   "outputs": [],
   "source": [
    "import librosa\n",
    "df['duration'] = [ librosa.get_duration(filename = x) for x in df['filePath']]"
   ]
  },
  {
   "cell_type": "code",
   "execution_count": 7,
   "metadata": {},
   "outputs": [
    {
     "data": {
      "text/html": [
       "<div>\n",
       "<style scoped>\n",
       "    .dataframe tbody tr th:only-of-type {\n",
       "        vertical-align: middle;\n",
       "    }\n",
       "\n",
       "    .dataframe tbody tr th {\n",
       "        vertical-align: top;\n",
       "    }\n",
       "\n",
       "    .dataframe thead th {\n",
       "        text-align: right;\n",
       "    }\n",
       "</style>\n",
       "<table border=\"1\" class=\"dataframe\">\n",
       "  <thead>\n",
       "    <tr style=\"text-align: right;\">\n",
       "      <th></th>\n",
       "      <th>filePath</th>\n",
       "      <th>emotion</th>\n",
       "      <th>isFemale</th>\n",
       "      <th>actorId</th>\n",
       "      <th>duration</th>\n",
       "    </tr>\n",
       "  </thead>\n",
       "  <tbody>\n",
       "    <tr>\n",
       "      <th>0</th>\n",
       "      <td>data/RAVDESS/Audio_Speech_Actors_01-24/Actor_1...</td>\n",
       "      <td>5</td>\n",
       "      <td>True</td>\n",
       "      <td>16</td>\n",
       "      <td>3.903896</td>\n",
       "    </tr>\n",
       "    <tr>\n",
       "      <th>1</th>\n",
       "      <td>data/RAVDESS/Audio_Speech_Actors_01-24/Actor_1...</td>\n",
       "      <td>6</td>\n",
       "      <td>True</td>\n",
       "      <td>16</td>\n",
       "      <td>3.570229</td>\n",
       "    </tr>\n",
       "    <tr>\n",
       "      <th>2</th>\n",
       "      <td>data/RAVDESS/Audio_Speech_Actors_01-24/Actor_1...</td>\n",
       "      <td>6</td>\n",
       "      <td>True</td>\n",
       "      <td>16</td>\n",
       "      <td>3.737062</td>\n",
       "    </tr>\n",
       "    <tr>\n",
       "      <th>3</th>\n",
       "      <td>data/RAVDESS/Audio_Speech_Actors_01-24/Actor_1...</td>\n",
       "      <td>5</td>\n",
       "      <td>True</td>\n",
       "      <td>16</td>\n",
       "      <td>3.970646</td>\n",
       "    </tr>\n",
       "    <tr>\n",
       "      <th>4</th>\n",
       "      <td>data/RAVDESS/Audio_Speech_Actors_01-24/Actor_1...</td>\n",
       "      <td>7</td>\n",
       "      <td>True</td>\n",
       "      <td>16</td>\n",
       "      <td>3.770437</td>\n",
       "    </tr>\n",
       "  </tbody>\n",
       "</table>\n",
       "</div>"
      ],
      "text/plain": [
       "                                            filePath  emotion  isFemale  \\\n",
       "0  data/RAVDESS/Audio_Speech_Actors_01-24/Actor_1...        5      True   \n",
       "1  data/RAVDESS/Audio_Speech_Actors_01-24/Actor_1...        6      True   \n",
       "2  data/RAVDESS/Audio_Speech_Actors_01-24/Actor_1...        6      True   \n",
       "3  data/RAVDESS/Audio_Speech_Actors_01-24/Actor_1...        5      True   \n",
       "4  data/RAVDESS/Audio_Speech_Actors_01-24/Actor_1...        7      True   \n",
       "\n",
       "   actorId  duration  \n",
       "0       16  3.903896  \n",
       "1       16  3.570229  \n",
       "2       16  3.737062  \n",
       "3       16  3.970646  \n",
       "4       16  3.770437  "
      ]
     },
     "execution_count": 7,
     "metadata": {},
     "output_type": "execute_result"
    }
   ],
   "source": [
    "df.head()"
   ]
  },
  {
   "cell_type": "code",
   "execution_count": 15,
   "metadata": {},
   "outputs": [],
   "source": [
    "import math\n",
    "df['duration'] = [ math.ceil(x) for x in df['duration']]\n"
   ]
  },
  {
   "cell_type": "code",
   "execution_count": 16,
   "metadata": {},
   "outputs": [
    {
     "data": {
      "text/html": [
       "<div>\n",
       "<style scoped>\n",
       "    .dataframe tbody tr th:only-of-type {\n",
       "        vertical-align: middle;\n",
       "    }\n",
       "\n",
       "    .dataframe tbody tr th {\n",
       "        vertical-align: top;\n",
       "    }\n",
       "\n",
       "    .dataframe thead th {\n",
       "        text-align: right;\n",
       "    }\n",
       "</style>\n",
       "<table border=\"1\" class=\"dataframe\">\n",
       "  <thead>\n",
       "    <tr style=\"text-align: right;\">\n",
       "      <th></th>\n",
       "      <th>filePath</th>\n",
       "      <th>emotion</th>\n",
       "      <th>isFemale</th>\n",
       "      <th>actorId</th>\n",
       "      <th>duration</th>\n",
       "    </tr>\n",
       "  </thead>\n",
       "  <tbody>\n",
       "    <tr>\n",
       "      <th>0</th>\n",
       "      <td>data/RAVDESS/Audio_Speech_Actors_01-24/Actor_1...</td>\n",
       "      <td>5</td>\n",
       "      <td>True</td>\n",
       "      <td>16</td>\n",
       "      <td>4</td>\n",
       "    </tr>\n",
       "    <tr>\n",
       "      <th>1</th>\n",
       "      <td>data/RAVDESS/Audio_Speech_Actors_01-24/Actor_1...</td>\n",
       "      <td>6</td>\n",
       "      <td>True</td>\n",
       "      <td>16</td>\n",
       "      <td>4</td>\n",
       "    </tr>\n",
       "    <tr>\n",
       "      <th>2</th>\n",
       "      <td>data/RAVDESS/Audio_Speech_Actors_01-24/Actor_1...</td>\n",
       "      <td>6</td>\n",
       "      <td>True</td>\n",
       "      <td>16</td>\n",
       "      <td>4</td>\n",
       "    </tr>\n",
       "    <tr>\n",
       "      <th>3</th>\n",
       "      <td>data/RAVDESS/Audio_Speech_Actors_01-24/Actor_1...</td>\n",
       "      <td>5</td>\n",
       "      <td>True</td>\n",
       "      <td>16</td>\n",
       "      <td>4</td>\n",
       "    </tr>\n",
       "    <tr>\n",
       "      <th>4</th>\n",
       "      <td>data/RAVDESS/Audio_Speech_Actors_01-24/Actor_1...</td>\n",
       "      <td>7</td>\n",
       "      <td>True</td>\n",
       "      <td>16</td>\n",
       "      <td>4</td>\n",
       "    </tr>\n",
       "  </tbody>\n",
       "</table>\n",
       "</div>"
      ],
      "text/plain": [
       "                                            filePath  emotion  isFemale  \\\n",
       "0  data/RAVDESS/Audio_Speech_Actors_01-24/Actor_1...        5      True   \n",
       "1  data/RAVDESS/Audio_Speech_Actors_01-24/Actor_1...        6      True   \n",
       "2  data/RAVDESS/Audio_Speech_Actors_01-24/Actor_1...        6      True   \n",
       "3  data/RAVDESS/Audio_Speech_Actors_01-24/Actor_1...        5      True   \n",
       "4  data/RAVDESS/Audio_Speech_Actors_01-24/Actor_1...        7      True   \n",
       "\n",
       "   actorId  duration  \n",
       "0       16         4  \n",
       "1       16         4  \n",
       "2       16         4  \n",
       "3       16         4  \n",
       "4       16         4  "
      ]
     },
     "execution_count": 16,
     "metadata": {},
     "output_type": "execute_result"
    }
   ],
   "source": [
    "df.head()"
   ]
  },
  {
   "cell_type": "code",
   "execution_count": 18,
   "metadata": {},
   "outputs": [
    {
     "data": {
      "text/plain": [
       "4    1183\n",
       "5     252\n",
       "6       3\n",
       "3       2\n",
       "Name: duration, dtype: int64"
      ]
     },
     "execution_count": 18,
     "metadata": {},
     "output_type": "execute_result"
    }
   ],
   "source": [
    "df.duration.value_counts()"
   ]
  },
  {
   "cell_type": "code",
   "execution_count": null,
   "metadata": {},
   "outputs": [],
   "source": [
    "import matplotlib as plt\n",
    "plt."
   ]
  },
  {
   "cell_type": "code",
   "execution_count": 10,
   "metadata": {},
   "outputs": [
    {
     "data": {
      "text/plain": [
       "5.2719375"
      ]
     },
     "execution_count": 10,
     "metadata": {},
     "output_type": "execute_result"
    }
   ],
   "source": [
    "max(df.duration)"
   ]
  },
  {
   "cell_type": "code",
   "execution_count": 33,
   "metadata": {},
   "outputs": [],
   "source": [
    "df.to_csv('RAVDESS_speech.csv', index=False)"
   ]
  },
  {
   "cell_type": "code",
   "execution_count": 34,
   "metadata": {},
   "outputs": [
    {
     "data": {
      "text/plain": [
       "<AxesSubplot:>"
      ]
     },
     "execution_count": 34,
     "metadata": {},
     "output_type": "execute_result"
    },
    {
     "data": {
      "image/png": "[encoded data removed]",
      "text/plain": [
       "<Figure size 432x288 with 1 Axes>"
      ]
     },
     "metadata": {
      "needs_background": "light"
     },
     "output_type": "display_data"
    }
   ],
   "source": [
    "df.emotion.value_counts().plot(kind='bar')"
   ]
  },
  {
   "cell_type": "code",
   "execution_count": null,
   "metadata": {},
   "outputs": [],
   "source": []
  }
 ],
 "metadata": {
  "interpreter": {
   "hash": "aee8b7b246df8f9039afb4144a1f6fd8d2ca17a180786b69acc140d282b71a49"
  },
  "kernelspec": {
   "display_name": "Python 3.10.0 64-bit",
   "language": "python",
   "name": "python3"
  },
  "language_info": {
   "codemirror_mode": {
    "name": "ipython",
    "version": 3
   },
   "file_extension": ".py",
   "mimetype": "text/x-python",
   "name": "python",
   "nbconvert_exporter": "python",
   "pygments_lexer": "ipython3",
   "version": "3.8.8"
  },
  "orig_nbformat": 4
 },
 "nbformat": 4,
 "nbformat_minor": 2
}
