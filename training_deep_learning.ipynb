{
 "cells": [
  {
   "cell_type": "code",
   "execution_count": 1,
   "metadata": {},
   "outputs": [
    {
     "data": {
      "text/plain": [
       "'2.6.0'"
      ]
     },
     "execution_count": 1,
     "metadata": {},
     "output_type": "execute_result"
    }
   ],
   "source": [
    "import tensorflow as tf \n",
    "import numpy as np \n",
    "import pandas as pd\n",
    "import matplotlib.pyplot as plt \n",
    "tf.__version__"
   ]
  },
  {
   "cell_type": "code",
   "execution_count": 2,
   "metadata": {},
   "outputs": [
    {
     "data": {
      "text/html": [
       "<div>\n",
       "<style scoped>\n",
       "    .dataframe tbody tr th:only-of-type {\n",
       "        vertical-align: middle;\n",
       "    }\n",
       "\n",
       "    .dataframe tbody tr th {\n",
       "        vertical-align: top;\n",
       "    }\n",
       "\n",
       "    .dataframe thead th {\n",
       "        text-align: right;\n",
       "    }\n",
       "</style>\n",
       "<table border=\"1\" class=\"dataframe\">\n",
       "  <thead>\n",
       "    <tr style=\"text-align: right;\">\n",
       "      <th></th>\n",
       "      <th>filePath</th>\n",
       "      <th>emotion</th>\n",
       "      <th>isFemale</th>\n",
       "      <th>actorId</th>\n",
       "    </tr>\n",
       "  </thead>\n",
       "  <tbody>\n",
       "    <tr>\n",
       "      <th>0</th>\n",
       "      <td>data/RAVDESS/Audio_Speech_Actors_01-24/Actor_1...</td>\n",
       "      <td>5</td>\n",
       "      <td>True</td>\n",
       "      <td>16</td>\n",
       "    </tr>\n",
       "    <tr>\n",
       "      <th>1</th>\n",
       "      <td>data/RAVDESS/Audio_Speech_Actors_01-24/Actor_1...</td>\n",
       "      <td>6</td>\n",
       "      <td>True</td>\n",
       "      <td>16</td>\n",
       "    </tr>\n",
       "    <tr>\n",
       "      <th>2</th>\n",
       "      <td>data/RAVDESS/Audio_Speech_Actors_01-24/Actor_1...</td>\n",
       "      <td>6</td>\n",
       "      <td>True</td>\n",
       "      <td>16</td>\n",
       "    </tr>\n",
       "    <tr>\n",
       "      <th>3</th>\n",
       "      <td>data/RAVDESS/Audio_Speech_Actors_01-24/Actor_1...</td>\n",
       "      <td>5</td>\n",
       "      <td>True</td>\n",
       "      <td>16</td>\n",
       "    </tr>\n",
       "    <tr>\n",
       "      <th>4</th>\n",
       "      <td>data/RAVDESS/Audio_Speech_Actors_01-24/Actor_1...</td>\n",
       "      <td>7</td>\n",
       "      <td>True</td>\n",
       "      <td>16</td>\n",
       "    </tr>\n",
       "  </tbody>\n",
       "</table>\n",
       "</div>"
      ],
      "text/plain": [
       "                                            filePath  emotion  isFemale  \\\n",
       "0  data/RAVDESS/Audio_Speech_Actors_01-24/Actor_1...        5      True   \n",
       "1  data/RAVDESS/Audio_Speech_Actors_01-24/Actor_1...        6      True   \n",
       "2  data/RAVDESS/Audio_Speech_Actors_01-24/Actor_1...        6      True   \n",
       "3  data/RAVDESS/Audio_Speech_Actors_01-24/Actor_1...        5      True   \n",
       "4  data/RAVDESS/Audio_Speech_Actors_01-24/Actor_1...        7      True   \n",
       "\n",
       "   actorId  \n",
       "0       16  \n",
       "1       16  \n",
       "2       16  \n",
       "3       16  \n",
       "4       16  "
      ]
     },
     "execution_count": 2,
     "metadata": {},
     "output_type": "execute_result"
    }
   ],
   "source": [
    "sampling_rate = '22050'\n",
    "with open('mfcc_trimmed_'+ sampling_rate + '.npy', 'rb') as f:\n",
    "    mfcc_trimmed = np.load(f, allow_pickle=True)\n",
    "    \n",
    "df_raw = pd.read_csv('RAVDESS_speech.csv')\n",
    "df_raw.head()"
   ]
  },
  {
   "cell_type": "code",
   "execution_count": 3,
   "metadata": {},
   "outputs": [
    {
     "data": {
      "text/html": [
       "<div>\n",
       "<style scoped>\n",
       "    .dataframe tbody tr th:only-of-type {\n",
       "        vertical-align: middle;\n",
       "    }\n",
       "\n",
       "    .dataframe tbody tr th {\n",
       "        vertical-align: top;\n",
       "    }\n",
       "\n",
       "    .dataframe thead th {\n",
       "        text-align: right;\n",
       "    }\n",
       "</style>\n",
       "<table border=\"1\" class=\"dataframe\">\n",
       "  <thead>\n",
       "    <tr style=\"text-align: right;\">\n",
       "      <th></th>\n",
       "      <th>filePath</th>\n",
       "      <th>emotion</th>\n",
       "      <th>isFemale</th>\n",
       "      <th>actorId</th>\n",
       "      <th>mfcc_trimmed_22050</th>\n",
       "    </tr>\n",
       "  </thead>\n",
       "  <tbody>\n",
       "    <tr>\n",
       "      <th>0</th>\n",
       "      <td>data/RAVDESS/Audio_Speech_Actors_01-24/Actor_1...</td>\n",
       "      <td>5</td>\n",
       "      <td>True</td>\n",
       "      <td>16</td>\n",
       "      <td>[[-723.22266, -714.97565, -713.3226, -714.5724...</td>\n",
       "    </tr>\n",
       "    <tr>\n",
       "      <th>1</th>\n",
       "      <td>data/RAVDESS/Audio_Speech_Actors_01-24/Actor_1...</td>\n",
       "      <td>6</td>\n",
       "      <td>True</td>\n",
       "      <td>16</td>\n",
       "      <td>[[-557.34534, -384.11807, -321.34244, -315.224...</td>\n",
       "    </tr>\n",
       "    <tr>\n",
       "      <th>2</th>\n",
       "      <td>data/RAVDESS/Audio_Speech_Actors_01-24/Actor_1...</td>\n",
       "      <td>6</td>\n",
       "      <td>True</td>\n",
       "      <td>16</td>\n",
       "      <td>[[-538.961, -534.93274, -530.0017, -530.9788, ...</td>\n",
       "    </tr>\n",
       "    <tr>\n",
       "      <th>3</th>\n",
       "      <td>data/RAVDESS/Audio_Speech_Actors_01-24/Actor_1...</td>\n",
       "      <td>5</td>\n",
       "      <td>True</td>\n",
       "      <td>16</td>\n",
       "      <td>[[-590.68286, -587.66205, -585.7887, -588.7289...</td>\n",
       "    </tr>\n",
       "    <tr>\n",
       "      <th>4</th>\n",
       "      <td>data/RAVDESS/Audio_Speech_Actors_01-24/Actor_1...</td>\n",
       "      <td>7</td>\n",
       "      <td>True</td>\n",
       "      <td>16</td>\n",
       "      <td>[[-826.90735, -811.848, -799.259, -821.14, -72...</td>\n",
       "    </tr>\n",
       "  </tbody>\n",
       "</table>\n",
       "</div>"
      ],
      "text/plain": [
       "                                            filePath  emotion  isFemale  \\\n",
       "0  data/RAVDESS/Audio_Speech_Actors_01-24/Actor_1...        5      True   \n",
       "1  data/RAVDESS/Audio_Speech_Actors_01-24/Actor_1...        6      True   \n",
       "2  data/RAVDESS/Audio_Speech_Actors_01-24/Actor_1...        6      True   \n",
       "3  data/RAVDESS/Audio_Speech_Actors_01-24/Actor_1...        5      True   \n",
       "4  data/RAVDESS/Audio_Speech_Actors_01-24/Actor_1...        7      True   \n",
       "\n",
       "   actorId                                 mfcc_trimmed_22050  \n",
       "0       16  [[-723.22266, -714.97565, -713.3226, -714.5724...  \n",
       "1       16  [[-557.34534, -384.11807, -321.34244, -315.224...  \n",
       "2       16  [[-538.961, -534.93274, -530.0017, -530.9788, ...  \n",
       "3       16  [[-590.68286, -587.66205, -585.7887, -588.7289...  \n",
       "4       16  [[-826.90735, -811.848, -799.259, -821.14, -72...  "
      ]
     },
     "execution_count": 3,
     "metadata": {},
     "output_type": "execute_result"
    }
   ],
   "source": [
    "df = df_raw\n",
    "df['mfcc_trimmed_'+ sampling_rate] = mfcc_trimmed\n",
    "df.head()"
   ]
  },
  {
   "cell_type": "code",
   "execution_count": 4,
   "metadata": {},
   "outputs": [],
   "source": [
    "df['mfcc_shape_of_t'] = [ np.shape(x)[1] for x in df.mfcc_trimmed_22050]"
   ]
  },
  {
   "cell_type": "code",
   "execution_count": null,
   "metadata": {},
   "outputs": [
    {
     "data": {
      "text/html": [
       "<div>\n",
       "<style scoped>\n",
       "    .dataframe tbody tr th:only-of-type {\n",
       "        vertical-align: middle;\n",
       "    }\n",
       "\n",
       "    .dataframe tbody tr th {\n",
       "        vertical-align: top;\n",
       "    }\n",
       "\n",
       "    .dataframe thead th {\n",
       "        text-align: right;\n",
       "    }\n",
       "</style>\n",
       "<table border=\"1\" class=\"dataframe\">\n",
       "  <thead>\n",
       "    <tr style=\"text-align: right;\">\n",
       "      <th></th>\n",
       "      <th>filePath</th>\n",
       "      <th>emotion</th>\n",
       "      <th>isFemale</th>\n",
       "      <th>actorId</th>\n",
       "      <th>mfcc_trimmed_22050</th>\n",
       "      <th>mfcc_shape_of_t</th>\n",
       "    </tr>\n",
       "  </thead>\n",
       "  <tbody>\n",
       "    <tr>\n",
       "      <th>0</th>\n",
       "      <td>data/RAVDESS/Audio_Speech_Actors_01-24/Actor_1...</td>\n",
       "      <td>5</td>\n",
       "      <td>True</td>\n",
       "      <td>16</td>\n",
       "      <td>[[-723.22266, -714.97565, -713.3226, -714.5724...</td>\n",
       "      <td>99</td>\n",
       "    </tr>\n",
       "    <tr>\n",
       "      <th>1</th>\n",
       "      <td>data/RAVDESS/Audio_Speech_Actors_01-24/Actor_1...</td>\n",
       "      <td>6</td>\n",
       "      <td>True</td>\n",
       "      <td>16</td>\n",
       "      <td>[[-557.34534, -384.11807, -321.34244, -315.224...</td>\n",
       "      <td>95</td>\n",
       "    </tr>\n",
       "    <tr>\n",
       "      <th>2</th>\n",
       "      <td>data/RAVDESS/Audio_Speech_Actors_01-24/Actor_1...</td>\n",
       "      <td>6</td>\n",
       "      <td>True</td>\n",
       "      <td>16</td>\n",
       "      <td>[[-538.961, -534.93274, -530.0017, -530.9788, ...</td>\n",
       "      <td>130</td>\n",
       "    </tr>\n",
       "    <tr>\n",
       "      <th>3</th>\n",
       "      <td>data/RAVDESS/Audio_Speech_Actors_01-24/Actor_1...</td>\n",
       "      <td>5</td>\n",
       "      <td>True</td>\n",
       "      <td>16</td>\n",
       "      <td>[[-590.68286, -587.66205, -585.7887, -588.7289...</td>\n",
       "      <td>102</td>\n",
       "    </tr>\n",
       "    <tr>\n",
       "      <th>4</th>\n",
       "      <td>data/RAVDESS/Audio_Speech_Actors_01-24/Actor_1...</td>\n",
       "      <td>7</td>\n",
       "      <td>True</td>\n",
       "      <td>16</td>\n",
       "      <td>[[-826.90735, -811.848, -799.259, -821.14, -72...</td>\n",
       "      <td>108</td>\n",
       "    </tr>\n",
       "  </tbody>\n",
       "</table>\n",
       "</div>"
      ],
      "text/plain": [
       "                                            filePath  emotion  isFemale  \\\n",
       "0  data/RAVDESS/Audio_Speech_Actors_01-24/Actor_1...        5      True   \n",
       "1  data/RAVDESS/Audio_Speech_Actors_01-24/Actor_1...        6      True   \n",
       "2  data/RAVDESS/Audio_Speech_Actors_01-24/Actor_1...        6      True   \n",
       "3  data/RAVDESS/Audio_Speech_Actors_01-24/Actor_1...        5      True   \n",
       "4  data/RAVDESS/Audio_Speech_Actors_01-24/Actor_1...        7      True   \n",
       "\n",
       "   actorId                                 mfcc_trimmed_22050  mfcc_shape_of_t  \n",
       "0       16  [[-723.22266, -714.97565, -713.3226, -714.5724...               99  \n",
       "1       16  [[-557.34534, -384.11807, -321.34244, -315.224...               95  \n",
       "2       16  [[-538.961, -534.93274, -530.0017, -530.9788, ...              130  \n",
       "3       16  [[-590.68286, -587.66205, -585.7887, -588.7289...              102  \n",
       "4       16  [[-826.90735, -811.848, -799.259, -821.14, -72...              108  "
      ]
     },
     "execution_count": 10,
     "metadata": {},
     "output_type": "execute_result"
    }
   ],
   "source": [
    "df.head()"
   ]
  },
  {
   "cell_type": "code",
   "execution_count": 5,
   "metadata": {},
   "outputs": [
    {
     "data": {
      "text/plain": [
       "150    32\n",
       "149    31\n",
       "156    30\n",
       "153    28\n",
       "154    28\n",
       "       ..\n",
       "178     1\n",
       "217     1\n",
       "70      1\n",
       "68      1\n",
       "216     1\n",
       "Name: mfcc_shape_of_t, Length: 139, dtype: int64"
      ]
     },
     "execution_count": 5,
     "metadata": {},
     "output_type": "execute_result"
    }
   ],
   "source": [
    "df['mfcc_shape_of_t'].value_counts()"
   ]
  },
  {
   "cell_type": "code",
   "execution_count": null,
   "metadata": {},
   "outputs": [
    {
     "data": {
      "image/png": "[encoded data removed]",
      "text/plain": [
       "<Figure size 432x288 with 1 Axes>"
      ]
     },
     "metadata": {
      "needs_background": "light"
     },
     "output_type": "display_data"
    }
   ],
   "source": [
    "fig, ax = plt.subplots()\n",
    "\n",
    "ax.bar(df['mfcc_shape_of_t'].value_counts().index, \\\n",
    "       df['mfcc_shape_of_t'].value_counts().values, \\\n",
    "           width=1, edgecolor=\"white\", linewidth=0.7)\n",
    "\n",
    "plt.title('distrubution of duration of each sample')\n",
    "plt.show()"
   ]
  },
  {
   "cell_type": "code",
   "execution_count": 6,
   "metadata": {},
   "outputs": [],
   "source": [
    "df['mfcc_t'] = [  x.T for x in df.mfcc_trimmed_22050]"
   ]
  },
  {
   "cell_type": "code",
   "execution_count": 7,
   "metadata": {},
   "outputs": [],
   "source": [
    "import tensorflow.keras\n",
    "mfcc_pad = tf.keras.preprocessing.sequence.pad_sequences(df.mfcc_t, padding=\"post\")\n"
   ]
  },
  {
   "cell_type": "code",
   "execution_count": 9,
   "metadata": {},
   "outputs": [
    {
     "data": {
      "text/plain": [
       "(1440, 217, 13)"
      ]
     },
     "execution_count": 9,
     "metadata": {},
     "output_type": "execute_result"
    }
   ],
   "source": [
    "mfcc_pad.shape"
   ]
  },
  {
   "cell_type": "code",
   "execution_count": null,
   "metadata": {},
   "outputs": [],
   "source": [
    "full_ds = tf.data.Dataset.from_tensor_slices((mfcc_pad, df.emotion))"
   ]
  },
  {
   "cell_type": "code",
   "execution_count": null,
   "metadata": {},
   "outputs": [
    {
     "ename": "Error",
     "evalue": "Session cannot generate requests",
     "output_type": "error",
     "traceback": [
      "Error: Session cannot generate requests",
      "at S.executeCodeCell (c:\\Users\\Shadow\\.vscode\\extensions\\ms-toolsai.jupyter-2021.10.1101450599\\out\\client\\extension.js:66:301742)",
      "at S.execute (c:\\Users\\Shadow\\.vscode\\extensions\\ms-toolsai.jupyter-2021.10.1101450599\\out\\client\\extension.js:66:300732)",
      "at S.start (c:\\Users\\Shadow\\.vscode\\extensions\\ms-toolsai.jupyter-2021.10.1101450599\\out\\client\\extension.js:66:296408)",
      "at processTicksAndRejections (internal/process/task_queues.js:93:5)",
      "at async t.CellExecutionQueue.executeQueuedCells (c:\\Users\\Shadow\\.vscode\\extensions\\ms-toolsai.jupyter-2021.10.1101450599\\out\\client\\extension.js:66:312326)",
      "at async t.CellExecutionQueue.start (c:\\Users\\Shadow\\.vscode\\extensions\\ms-toolsai.jupyter-2021.10.1101450599\\out\\client\\extension.js:66:311862)"
     ]
    }
   ],
   "source": [
    "print('x')"
   ]
  },
  {
   "cell_type": "code",
   "execution_count": null,
   "metadata": {},
   "outputs": [
    {
     "ename": "Error",
     "evalue": "Session cannot generate requests",
     "output_type": "error",
     "traceback": [
      "Error: Session cannot generate requests",
      "at S.executeCodeCell (c:\\Users\\Shadow\\.vscode\\extensions\\ms-toolsai.jupyter-2021.10.1101450599\\out\\client\\extension.js:66:301742)",
      "at S.execute (c:\\Users\\Shadow\\.vscode\\extensions\\ms-toolsai.jupyter-2021.10.1101450599\\out\\client\\extension.js:66:300732)",
      "at S.start (c:\\Users\\Shadow\\.vscode\\extensions\\ms-toolsai.jupyter-2021.10.1101450599\\out\\client\\extension.js:66:296408)",
      "at processTicksAndRejections (internal/process/task_queues.js:93:5)",
      "at async t.CellExecutionQueue.executeQueuedCells (c:\\Users\\Shadow\\.vscode\\extensions\\ms-toolsai.jupyter-2021.10.1101450599\\out\\client\\extension.js:66:312326)",
      "at async t.CellExecutionQueue.start (c:\\Users\\Shadow\\.vscode\\extensions\\ms-toolsai.jupyter-2021.10.1101450599\\out\\client\\extension.js:66:311862)"
     ]
    }
   ],
   "source": [
    "TAKE_SIZE = int(0.8*df.shape[0])\n"
   ]
  },
  {
   "cell_type": "code",
   "execution_count": null,
   "metadata": {},
   "outputs": [
    {
     "ename": "Error",
     "evalue": "Session cannot generate requests",
     "output_type": "error",
     "traceback": [
      "Error: Session cannot generate requests",
      "at S.executeCodeCell (c:\\Users\\Shadow\\.vscode\\extensions\\ms-toolsai.jupyter-2021.10.1101450599\\out\\client\\extension.js:66:301742)",
      "at S.execute (c:\\Users\\Shadow\\.vscode\\extensions\\ms-toolsai.jupyter-2021.10.1101450599\\out\\client\\extension.js:66:300732)",
      "at S.start (c:\\Users\\Shadow\\.vscode\\extensions\\ms-toolsai.jupyter-2021.10.1101450599\\out\\client\\extension.js:66:296408)",
      "at runMicrotasks (<anonymous>)",
      "at processTicksAndRejections (internal/process/task_queues.js:93:5)",
      "at async t.CellExecutionQueue.executeQueuedCells (c:\\Users\\Shadow\\.vscode\\extensions\\ms-toolsai.jupyter-2021.10.1101450599\\out\\client\\extension.js:66:312326)",
      "at async t.CellExecutionQueue.start (c:\\Users\\Shadow\\.vscode\\extensions\\ms-toolsai.jupyter-2021.10.1101450599\\out\\client\\extension.js:66:311862)"
     ]
    }
   ],
   "source": [
    "# Train Test Split\n",
    "\n",
    "train_data = full_ds.take(TAKE_SIZE).shuffle(TAKE_SIZE)\n",
    "train_data = train_data.batch(64)\n",
    "\n",
    "test_data = full_ds.skip(TAKE_SIZE)\n",
    "test_data = test_data.batch(64)"
   ]
  },
  {
   "cell_type": "code",
   "execution_count": null,
   "metadata": {},
   "outputs": [],
   "source": [
    "from tensorflow.keras.layers import Conv2D, MaxPool2D, Flatten, Dense\n",
    "from tensorflow.keras.models import Sequential\n",
    "\n",
    "\n",
    "model = Sequential()model.add(layers.Conv1D(256, 5,padding='same',\n",
    "                 input_shape=(236,40)))\n",
    "model.add(layers.Activation('relu'))\n",
    "model.add(layers.MaxPooling1D(pool_size=(8)))\n",
    "model.add(layers.Dropout(0.2))model.add(layers.Conv1D(128, 5,padding='same'))\n",
    "model.add(layers.Activation('relu'))\n",
    "model.add(layers.MaxPooling1D(pool_size=(4)))\n",
    "model.add(layers.Dropout(0.1))model.add(layers.Flatten())\n",
    "model.add(layers.Dense(64))\n",
    "model.add(layers.Dense(7))\n",
    "model.add(layers.Activation('softmax'))"
   ]
  }
 ],
 "metadata": {
  "interpreter": {
   "hash": "b3ba2566441a7c06988d0923437866b63cedc61552a5af99d1f4fb67d367b25f"
  },
  "kernelspec": {
   "display_name": "Python 3.9.7 64-bit ('base': conda)",
   "language": "python",
   "name": "python3"
  },
  "language_info": {
   "codemirror_mode": {
    "name": "ipython",
    "version": 3
   },
   "file_extension": ".py",
   "mimetype": "text/x-python",
   "name": "python",
   "nbconvert_exporter": "python",
   "pygments_lexer": "ipython3",
   "version": "3.9.7"
  },
  "orig_nbformat": 4
 },
 "nbformat": 4,
 "nbformat_minor": 2
}
